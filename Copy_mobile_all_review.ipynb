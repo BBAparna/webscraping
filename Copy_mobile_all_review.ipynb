{
 "cells": [
  {
   "cell_type": "code",
   "execution_count": 1,
   "metadata": {},
   "outputs": [],
   "source": [
    "import requests\n",
    "from bs4 import BeautifulSoup\n",
    "import pandas as pd\n",
    "import numpy as np"
   ]
  },
  {
   "cell_type": "markdown",
   "metadata": {},
   "source": [
    "## Making list of all review URLs"
   ]
  },
  {
   "cell_type": "code",
   "execution_count": 2,
   "metadata": {},
   "outputs": [
    {
     "name": "stdout",
     "output_type": "stream",
     "text": [
      "['https://www.gsmarena.com/apple_iphone_xs-reviews-9318p1.php', 'https://www.gsmarena.com/apple_iphone_xs-reviews-9318p2.php', 'https://www.gsmarena.com/apple_iphone_xs-reviews-9318p3.php', 'https://www.gsmarena.com/apple_iphone_xs-reviews-9318p4.php', 'https://www.gsmarena.com/apple_iphone_xs-reviews-9318p5.php', 'https://www.gsmarena.com/apple_iphone_xs-reviews-9318p6.php', 'https://www.gsmarena.com/apple_iphone_xs-reviews-9318p7.php', 'https://www.gsmarena.com/apple_iphone_xs-reviews-9318p8.php', 'https://www.gsmarena.com/apple_iphone_xs-reviews-9318p9.php', 'https://www.gsmarena.com/apple_iphone_xs-reviews-9318p10.php', 'https://www.gsmarena.com/apple_iphone_xs-reviews-9318p11.php', 'https://www.gsmarena.com/apple_iphone_xs-reviews-9318p12.php', 'https://www.gsmarena.com/apple_iphone_xs-reviews-9318p13.php', 'https://www.gsmarena.com/apple_iphone_xs-reviews-9318p14.php', 'https://www.gsmarena.com/apple_iphone_xs-reviews-9318p15.php', 'https://www.gsmarena.com/apple_iphone_xs-reviews-9318p16.php', 'https://www.gsmarena.com/apple_iphone_xs-reviews-9318p17.php', 'https://www.gsmarena.com/apple_iphone_xs-reviews-9318p18.php', 'https://www.gsmarena.com/apple_iphone_xs-reviews-9318p19.php']\n"
     ]
    }
   ],
   "source": [
    "base = \"https://www.gsmarena.com/apple_iphone_xs-reviews-9318p\"\n",
    "end = \".php\"\n",
    "url_list = []\n",
    "for i in range(1,20):\n",
    "    url_list.append(base+str(i)+end)\n",
    "    \n",
    "print(url_list)"
   ]
  },
  {
   "cell_type": "markdown",
   "metadata": {},
   "source": [
    "## Function to flatten nested list"
   ]
  },
  {
   "cell_type": "code",
   "execution_count": 3,
   "metadata": {},
   "outputs": [],
   "source": [
    "flatten = lambda l: [item for sublist in l for item in sublist]"
   ]
  },
  {
   "cell_type": "markdown",
   "metadata": {},
   "source": [
    "## Applying operations to each URL"
   ]
  },
  {
   "cell_type": "code",
   "execution_count": 4,
   "metadata": {},
   "outputs": [
    {
     "name": "stdout",
     "output_type": "stream",
     "text": [
      "https://www.gsmarena.com/apple_iphone_xs-reviews-9318p1.php\n",
      "https://www.gsmarena.com/apple_iphone_xs-reviews-9318p2.php\n",
      "https://www.gsmarena.com/apple_iphone_xs-reviews-9318p3.php\n",
      "https://www.gsmarena.com/apple_iphone_xs-reviews-9318p4.php\n",
      "https://www.gsmarena.com/apple_iphone_xs-reviews-9318p5.php\n",
      "https://www.gsmarena.com/apple_iphone_xs-reviews-9318p6.php\n",
      "https://www.gsmarena.com/apple_iphone_xs-reviews-9318p7.php\n",
      "https://www.gsmarena.com/apple_iphone_xs-reviews-9318p8.php\n",
      "https://www.gsmarena.com/apple_iphone_xs-reviews-9318p9.php\n",
      "https://www.gsmarena.com/apple_iphone_xs-reviews-9318p10.php\n",
      "https://www.gsmarena.com/apple_iphone_xs-reviews-9318p11.php\n",
      "https://www.gsmarena.com/apple_iphone_xs-reviews-9318p12.php\n",
      "https://www.gsmarena.com/apple_iphone_xs-reviews-9318p13.php\n",
      "https://www.gsmarena.com/apple_iphone_xs-reviews-9318p14.php\n",
      "https://www.gsmarena.com/apple_iphone_xs-reviews-9318p15.php\n",
      "https://www.gsmarena.com/apple_iphone_xs-reviews-9318p16.php\n",
      "https://www.gsmarena.com/apple_iphone_xs-reviews-9318p17.php\n",
      "https://www.gsmarena.com/apple_iphone_xs-reviews-9318p18.php\n",
      "https://www.gsmarena.com/apple_iphone_xs-reviews-9318p19.php\n"
     ]
    }
   ],
   "source": [
    "all_review = [] ## List to store all the reviews\n",
    "\n",
    "for url in url_list:\n",
    "    print(url)\n",
    "    page=requests.get(url)  ## Retrieve HTML page\n",
    "    soup = BeautifulSoup(page.content,'html.parser')  ## Parse it by beautiful soup\n",
    "    review = soup.find_all('p', class_='uopin')\n",
    "    documents = [x.text.strip().split(\".\") for x in review] ## List of review on that page\n",
    "    all_review.extend(documents)"
   ]
  },
  {
   "cell_type": "code",
   "execution_count": 5,
   "metadata": {},
   "outputs": [
    {
     "data": {
      "text/plain": [
       "[['Time to let go of iphones for good',\n",
       "  '',\n",
       "  '',\n",
       "  '',\n",
       "  '',\n",
       "  \" They don't care about one handed use anymore\",\n",
       "  '',\n",
       "  '',\n",
       "  ' \\r\\nRemember how they used to make fun of Samsung for how uncomfortable the original galaxy note is for one handed use (Not just galaxy note, they even made fun of Galaxy s2)',\n",
       "  '',\n",
       "  ' And now we have a minimum width of 70+ mm for the smallest iphone',\n",
       "  '',\n",
       "  ' and they want us to have carpal tunnel syndrome',\n",
       "  '',\n",
       "  ''],\n",
       " ['Gj99, 12 Sep 2018Except a thing or two, there is absolutely NO difference between this and iphone X',\n",
       "  ' \\r\\nHave the',\n",
       "  '',\n",
       "  '',\n",
       "  ' more\"S\" editions are mostly incremental updates',\n",
       "  ' They tend to offer updated specs rather than new ones',\n",
       "  ' This year the new stuff are the XS Max and XR, not this particular phone!'],\n",
       " [\"Why all the large phones? \\r\\nI'm done with apple, the SE is very popular but yet you couldn't make a phone smaller in size? \\r\\nI don't want to carry a tablet in my back pocket\",\n",
       "  ''],\n",
       " ['The only thing I can afford among all stuff introduced in #AppleEvent is updating my software to iOS 12'],\n",
       " ['battery size?'],\n",
       " ['Except a thing or two, there is absolutely NO difference between this and iphone X',\n",
       "  '  \\r\\nHave they given wrong specs or what?'],\n",
       " ['Anonymous, 12 Sep 2018From IP67 to IP68 ',\n",
       "  '',\n",
       "  ' what a big difference XDwatch this space'],\n",
       " ['Chris-the-Apple-boy, 12 Sep 2018This is the initial version of the page, expect updates within 2 hoursOk'],\n",
       " ['Which model gets dual physical sim??? XS or XS Max???'],\n",
       " ['Galaxy S6 under iPhone skin',\n",
       "  '',\n",
       "  '',\n",
       "  ' \\r\\nSame specs, same functions, nothing new',\n",
       "  '',\n",
       "  '',\n",
       "  '\\n \\r\\nOh yeah, monster Apple homebrew cpu :D'],\n",
       " ['its literally took Apple more than 4 years to put dual SIM, but another 10 years for Micro SD hahahah'],\n",
       " ['One thing is for certain',\n",
       "  '',\n",
       "  '',\n",
       "  \" there's ZERO reason for iPhone X users to upgrade to Xs\",\n",
       "  ' This phone is literally the same thing with upgraded SoC & RAM only!'],\n",
       " ['Nothing too exciting!'],\n",
       " ['From IP67 to IP68 ', '', ' what a big difference XD'],\n",
       " [\"I'm early to this!!!\"],\n",
       " ['ddavid, 12 Sep 20182716mah ? got different ? iphone X have the same spec also',\n",
       "  '',\n",
       "  '',\n",
       "  '',\n",
       "  ' sadThis is the initial version of the page, expect updates within 2 hours'],\n",
       " ['ddavid, 12 Sep 20182716mah ? got different ? iphone X have the same spec also',\n",
       "  '',\n",
       "  '',\n",
       "  '',\n",
       "  ' sadThose specs are not official, it will be presented this evening',\n",
       "  ' It will probably take a few days until ifixit tears it down and reveals the official battery size'],\n",
       " ['Anonymous, 12 Sep 2018welcome to 20172716mah ? got different ? iphone X have the same spec also',\n",
       "  '',\n",
       "  '',\n",
       "  '',\n",
       "  ' sad'],\n",
       " ['welcome to 2017'],\n",
       " ['Little &#128267; for big screen',\n",
       "  '',\n",
       "  '',\n",
       "  ' We need some change and then rename iphone x ',\n",
       "  '',\n",
       "  '',\n",
       "  ' It is iphone x only with a better graphic and cpu',\n",
       "  '',\n",
       "  '',\n",
       "  ' Are you kidding? we need some change ecpecially more capacitive &#128267;']]"
      ]
     },
     "execution_count": 5,
     "metadata": {},
     "output_type": "execute_result"
    }
   ],
   "source": [
    "[x.text.strip().split(\".\") for x in review]"
   ]
  },
  {
   "cell_type": "code",
   "execution_count": 6,
   "metadata": {},
   "outputs": [],
   "source": [
    "all_reviews_flat = flatten(all_review)\n",
    "\n",
    "all_reviews_flat = [x for x in all_reviews_flat if len(x)>20]"
   ]
  },
  {
   "cell_type": "code",
   "execution_count": 7,
   "metadata": {},
   "outputs": [
    {
     "data": {
      "text/plain": [
       "1211"
      ]
     },
     "execution_count": 7,
     "metadata": {},
     "output_type": "execute_result"
    }
   ],
   "source": [
    "len(all_reviews_flat)"
   ]
  },
  {
   "cell_type": "code",
   "execution_count": 8,
   "metadata": {},
   "outputs": [
    {
     "data": {
      "text/plain": [
       "[\"Anonymous, 28 Apr 2019Wow! Who cares how much storage it has because you can't use it all if it only has 4gb of ram\",\n",
       " ' moreI just feel like apple just works on their design mostly',\n",
       " ' They try to make it as expensive as they can',\n",
       " ' phones cheaper than 1000 dollars do the same or better than the xs',\n",
       " \" \\r\\nApple doesn't give a fast charger, they remove the headphone jack, they make the battery slow down so that you upgrade, androids literally do better for customers and the money now\",\n",
       " 'Anonymous, 25 Apr 2019Then came along S10:)))',\n",
       " \"Anonymous, 28 Apr 2019Wow! Who cares how much storage it has because you can't use it all if it only has 4gb of ram\",\n",
       " \"Wow! Who cares how much storage it has because you can't use it all if it only has 4gb of ram\",\n",
       " ' Why not buy a oneplus 6t with with 8gb of ram for only $500 or the new blackberry key2 with 6gb of ram and the 56gb of storage?Maybe you would rather pay to screen cast instead of having Wi-Fi direct?',\n",
       " 'Fer, 24 Apr 2019This evaluation aims to examine how the iPhone XS is believed to be the best iPhone so far']"
      ]
     },
     "execution_count": 8,
     "metadata": {},
     "output_type": "execute_result"
    }
   ],
   "source": [
    "all_reviews_flat[:10]"
   ]
  },
  {
   "cell_type": "code",
   "execution_count": 9,
   "metadata": {},
   "outputs": [],
   "source": [
    "#copy_allpage_mobile_review = pd.DataFrame({\"Reviews\":all_reviews_flat})\n",
    "#copy_allpage_mobile_review.to_csv(\"copy_allpage_mobile_review.csv\",index=False)"
   ]
  },
  {
   "cell_type": "code",
   "execution_count": 10,
   "metadata": {},
   "outputs": [],
   "source": [
    "#pd.set_option('display.max_colWidth',-1)\n",
    "#copy_allpage_mobile_review.head()"
   ]
  },
  {
   "cell_type": "code",
   "execution_count": 62,
   "metadata": {},
   "outputs": [
    {
     "data": {
      "text/plain": [
       "1199"
      ]
     },
     "execution_count": 62,
     "metadata": {},
     "output_type": "execute_result"
    }
   ],
   "source": [
    "len(copy_allpage_mobile_review)"
   ]
  },
  {
   "cell_type": "code",
   "execution_count": 11,
   "metadata": {},
   "outputs": [],
   "source": [
    "mobrev = pd.read_excel('newcopy_mobile_review.xlsx')"
   ]
  },
  {
   "cell_type": "code",
   "execution_count": 210,
   "metadata": {},
   "outputs": [
    {
     "data": {
      "text/plain": [
       "1254"
      ]
     },
     "execution_count": 210,
     "metadata": {},
     "output_type": "execute_result"
    }
   ],
   "source": [
    "len(mobrev)"
   ]
  },
  {
   "cell_type": "code",
   "execution_count": 12,
   "metadata": {},
   "outputs": [
    {
     "data": {
      "text/plain": [
       "(1254, 2)"
      ]
     },
     "execution_count": 12,
     "metadata": {},
     "output_type": "execute_result"
    }
   ],
   "source": [
    "mobrev.shape"
   ]
  },
  {
   "cell_type": "code",
   "execution_count": 13,
   "metadata": {},
   "outputs": [
    {
     "data": {
      "text/html": [
       "<div>\n",
       "<style scoped>\n",
       "    .dataframe tbody tr th:only-of-type {\n",
       "        vertical-align: middle;\n",
       "    }\n",
       "\n",
       "    .dataframe tbody tr th {\n",
       "        vertical-align: top;\n",
       "    }\n",
       "\n",
       "    .dataframe thead th {\n",
       "        text-align: right;\n",
       "    }\n",
       "</style>\n",
       "<table border=\"1\" class=\"dataframe\">\n",
       "  <thead>\n",
       "    <tr style=\"text-align: right;\">\n",
       "      <th></th>\n",
       "      <th>sentiment</th>\n",
       "      <th>Reviews</th>\n",
       "    </tr>\n",
       "  </thead>\n",
       "  <tbody>\n",
       "    <tr>\n",
       "      <th>1249</th>\n",
       "      <td>POS</td>\n",
       "      <td>Apple is 3 years behind Samsung and Huawei</td>\n",
       "    </tr>\n",
       "    <tr>\n",
       "      <th>1250</th>\n",
       "      <td>NEG</td>\n",
       "      <td>IMO,why apple a bit fail in china: \\r\\r\\nskyhi...</td>\n",
       "    </tr>\n",
       "    <tr>\n",
       "      <th>1251</th>\n",
       "      <td>NEG</td>\n",
       "      <td>Shaun, 22 Mar 2019How about you don't?\\r\\r\\nI'...</td>\n",
       "    </tr>\n",
       "    <tr>\n",
       "      <th>1252</th>\n",
       "      <td>NEG</td>\n",
       "      <td>moreCommon! How did you say Iphones SE, 7, 8 ...</td>\n",
       "    </tr>\n",
       "    <tr>\n",
       "      <th>1253</th>\n",
       "      <td>NEG</td>\n",
       "      <td>I wish camscanner and many apps running better...</td>\n",
       "    </tr>\n",
       "  </tbody>\n",
       "</table>\n",
       "</div>"
      ],
      "text/plain": [
       "     sentiment                                            Reviews\n",
       "1249       POS         Apple is 3 years behind Samsung and Huawei\n",
       "1250       NEG  IMO,why apple a bit fail in china: \\r\\r\\nskyhi...\n",
       "1251       NEG  Shaun, 22 Mar 2019How about you don't?\\r\\r\\nI'...\n",
       "1252       NEG   moreCommon! How did you say Iphones SE, 7, 8 ...\n",
       "1253       NEG  I wish camscanner and many apps running better..."
      ]
     },
     "execution_count": 13,
     "metadata": {},
     "output_type": "execute_result"
    }
   ],
   "source": [
    "mobrev.tail()"
   ]
  },
  {
   "cell_type": "code",
   "execution_count": 14,
   "metadata": {},
   "outputs": [
    {
     "data": {
      "text/plain": [
       "0"
      ]
     },
     "execution_count": 14,
     "metadata": {},
     "output_type": "execute_result"
    }
   ],
   "source": [
    "sum(mobrev['sentiment'] == \" \")"
   ]
  },
  {
   "cell_type": "code",
   "execution_count": null,
   "metadata": {},
   "outputs": [],
   "source": []
  },
  {
   "cell_type": "code",
   "execution_count": 15,
   "metadata": {},
   "outputs": [],
   "source": [
    "mobrev['sentiment'] = mobrev['sentiment'].astype('str')"
   ]
  },
  {
   "cell_type": "code",
   "execution_count": 16,
   "metadata": {},
   "outputs": [],
   "source": [
    "from sklearn.model_selection import train_test_split\n",
    "\n",
    "y = mobrev['sentiment']\n",
    "X = mobrev.loc[:,'Reviews']\n",
    "\n",
    "X_train, X_test, y_train, y_test = train_test_split(X, y, test_size=0.2, random_state=0)"
   ]
  },
  {
   "cell_type": "code",
   "execution_count": 18,
   "metadata": {},
   "outputs": [
    {
     "name": "stdout",
     "output_type": "stream",
     "text": [
      "Lenght of Train 1003\n",
      "Length of Test 251\n"
     ]
    }
   ],
   "source": [
    "print(\"Lenght of Train\" ,len(X_train))\n",
    "print(\"Length of Test\"  ,len(X_test))"
   ]
  },
  {
   "cell_type": "code",
   "execution_count": 19,
   "metadata": {},
   "outputs": [
    {
     "name": "stdout",
     "output_type": "stream",
     "text": [
      "(1003,)\n",
      "(251,)\n",
      "(1003,)\n",
      "(251,)\n"
     ]
    }
   ],
   "source": [
    "print(X_train.shape)\n",
    "print(X_test.shape)\n",
    "print(y_train.shape)\n",
    "print(y_test.shape)"
   ]
  },
  {
   "cell_type": "code",
   "execution_count": 20,
   "metadata": {},
   "outputs": [
    {
     "name": "stdout",
     "output_type": "stream",
     "text": [
      "(1003, 289)\n",
      "(251, 289)\n"
     ]
    }
   ],
   "source": [
    "from sklearn.feature_extraction.text import TfidfVectorizer\n",
    "vectorizer = TfidfVectorizer(min_df=10,ngram_range=(1, 3))\n",
    "X_train_tf=vectorizer.fit_transform(X_train).toarray()\n",
    "X_test_tf=vectorizer.transform(X_test).toarray()\n",
    "print(X_train_tf.shape)\n",
    "print(X_test_tf.shape)"
   ]
  },
  {
   "cell_type": "code",
   "execution_count": 219,
   "metadata": {},
   "outputs": [],
   "source": [
    "# from sklearn.decomposition import TruncatedSVD\n",
    "# svd = TruncatedSVD(n_components=280, n_iter=10, random_state=42)\n",
    "# X_train_tf_svd = svd.fit_transform(X_train_tf)\n",
    "# print(svd.explained_variance_ratio_.sum())\n",
    "# X_test_tf_svd = svd.transform(X_test_tf)"
   ]
  },
  {
   "cell_type": "code",
   "execution_count": 21,
   "metadata": {},
   "outputs": [
    {
     "data": {
      "text/plain": [
       "0     POS\n",
       "1    INFO\n",
       "2     POS\n",
       "3     NEG\n",
       "4     POS\n",
       "Name: sentiment, dtype: object"
      ]
     },
     "execution_count": 21,
     "metadata": {},
     "output_type": "execute_result"
    }
   ],
   "source": [
    "y[:5]"
   ]
  },
  {
   "cell_type": "code",
   "execution_count": 23,
   "metadata": {},
   "outputs": [],
   "source": [
    "#target = pd.DataFrame({\"Act\":y_train,\"Pred\":train_nb_preds})"
   ]
  },
  {
   "cell_type": "code",
   "execution_count": 25,
   "metadata": {},
   "outputs": [],
   "source": [
    "#target.shape"
   ]
  },
  {
   "cell_type": "code",
   "execution_count": 27,
   "metadata": {},
   "outputs": [],
   "source": [
    "#target.reset_index(drop=True, inplace=True)\n",
    "# X_train_tf.reset_index(drop=True, inplace=True)"
   ]
  },
  {
   "cell_type": "code",
   "execution_count": 28,
   "metadata": {},
   "outputs": [],
   "source": [
    "#temp = pd.concat([target,pd.DataFrame(X_train_tf)],ignore_index=True,axis=1)\n",
    "#temp.to_csv(\"analyse.csv\")"
   ]
  },
  {
   "cell_type": "code",
   "execution_count": 29,
   "metadata": {},
   "outputs": [
    {
     "name": "stdout",
     "output_type": "stream",
     "text": [
      "Train Accuracy 0.4935194416749751\n",
      "[[191 256 212]\n",
      " [  0 138  25]\n",
      " [  0  15 166]]\n",
      "             precision    recall  f1-score   support\n",
      "\n",
      "       INFO       1.00      0.29      0.45       659\n",
      "        NEG       0.34      0.85      0.48       163\n",
      "        POS       0.41      0.92      0.57       181\n",
      "\n",
      "avg / total       0.79      0.49      0.48      1003\n",
      "\n"
     ]
    }
   ],
   "source": [
    "from sklearn.naive_bayes import GaussianNB\n",
    "from sklearn.metrics import confusion_matrix, classification_report\n",
    "\n",
    "NBclassifier = GaussianNB()\n",
    "NBclassifier.fit(X_train_tf, y_train)\n",
    "\n",
    "## Predictions\n",
    "train_nb_preds = NBclassifier.predict(X_train_tf)\n",
    "test_nb_preds = NBclassifier.predict(X_test_tf)\n",
    "\n",
    "print(\"Train Accuracy\",NBclassifier.score(X_train_tf,y_train))\n",
    "print(confusion_matrix(y_train,train_nb_preds))\n",
    "print(classification_report(y_train,train_nb_preds))\n",
    "\n",
    "#print(\"test Accuracy\",NBclassifier.score(X_test_tf,y_test))\n",
    "#print(confusion_matrix(y_test,test_nb_preds))\n",
    "#print(classification_report(y_test,test_nb_preds))\n"
   ]
  },
  {
   "cell_type": "code",
   "execution_count": null,
   "metadata": {},
   "outputs": [],
   "source": []
  },
  {
   "cell_type": "code",
   "execution_count": 30,
   "metadata": {},
   "outputs": [],
   "source": [
    "#print(classification_report(y_train,train_nb_preds))\n"
   ]
  },
  {
   "cell_type": "code",
   "execution_count": 31,
   "metadata": {},
   "outputs": [
    {
     "name": "stdout",
     "output_type": "stream",
     "text": [
      "             precision    recall  f1-score   support\n",
      "\n",
      "       INFO       0.84      0.23      0.36       163\n",
      "        NEG       0.27      0.66      0.38        38\n",
      "        POS       0.29      0.66      0.40        50\n",
      "\n",
      "avg / total       0.64      0.38      0.37       251\n",
      "\n"
     ]
    }
   ],
   "source": [
    "# generate classification report\n",
    "from sklearn import metrics\n",
    "print(metrics.classification_report(y_test, test_nb_preds))"
   ]
  },
  {
   "cell_type": "code",
   "execution_count": 32,
   "metadata": {},
   "outputs": [
    {
     "name": "stdout",
     "output_type": "stream",
     "text": [
      "test Accuracy 0.3784860557768924\n"
     ]
    }
   ],
   "source": [
    "print(\"test Accuracy\",NBclassifier.score(X_test_tf,y_test))"
   ]
  },
  {
   "cell_type": "code",
   "execution_count": 33,
   "metadata": {},
   "outputs": [
    {
     "name": "stdout",
     "output_type": "stream",
     "text": [
      "[[37 57 69]\n",
      " [ 1 25 12]\n",
      " [ 6 11 33]]\n"
     ]
    }
   ],
   "source": [
    "print(confusion_matrix(y_test,test_nb_preds))"
   ]
  },
  {
   "cell_type": "code",
   "execution_count": 34,
   "metadata": {},
   "outputs": [
    {
     "name": "stdout",
     "output_type": "stream",
     "text": [
      "             precision    recall  f1-score   support\n",
      "\n",
      "       INFO       0.84      0.23      0.36       163\n",
      "        NEG       0.27      0.66      0.38        38\n",
      "        POS       0.29      0.66      0.40        50\n",
      "\n",
      "avg / total       0.64      0.38      0.37       251\n",
      "\n"
     ]
    }
   ],
   "source": [
    "print(classification_report(y_test,test_nb_preds))"
   ]
  },
  {
   "cell_type": "code",
   "execution_count": 35,
   "metadata": {},
   "outputs": [
    {
     "name": "stdout",
     "output_type": "stream",
     "text": [
      "Train Accuracy 0.732801595214357\n",
      "[[652   2   5]\n",
      " [140  20   3]\n",
      " [116   2  63]]\n"
     ]
    }
   ],
   "source": [
    "from sklearn.linear_model import LogisticRegression\n",
    "logit = LogisticRegression()\n",
    "logit.fit(X_train_tf,y_train)\n",
    "\n",
    "## Predictions\n",
    "train_logit_preds = logit.predict(X_train_tf)\n",
    "test_logit_preds = logit.predict(X_test_tf)\n",
    "\n",
    "print(\"Train Accuracy\",logit.score(X_train_tf,y_train))\n",
    "print(confusion_matrix(y_train,train_logit_preds))\n",
    "\n",
    "\n"
   ]
  },
  {
   "cell_type": "code",
   "execution_count": 36,
   "metadata": {},
   "outputs": [
    {
     "name": "stdout",
     "output_type": "stream",
     "text": [
      "             precision    recall  f1-score   support\n",
      "\n",
      "       INFO       0.72      0.99      0.83       659\n",
      "        NEG       0.83      0.12      0.21       163\n",
      "        POS       0.89      0.35      0.50       181\n",
      "\n",
      "avg / total       0.77      0.73      0.67      1003\n",
      "\n"
     ]
    }
   ],
   "source": [
    "print(classification_report(y_train,train_logit_preds))"
   ]
  },
  {
   "cell_type": "code",
   "execution_count": 39,
   "metadata": {},
   "outputs": [
    {
     "name": "stdout",
     "output_type": "stream",
     "text": [
      "test Accuracy 0.6932270916334662\n",
      "[[161   0   2]\n",
      " [ 32   4   2]\n",
      " [ 41   0   9]]\n",
      "             precision    recall  f1-score   support\n",
      "\n",
      "       INFO       0.69      0.99      0.81       163\n",
      "        NEG       1.00      0.11      0.19        38\n",
      "        POS       0.69      0.18      0.29        50\n",
      "\n",
      "avg / total       0.74      0.69      0.61       251\n",
      "\n"
     ]
    }
   ],
   "source": [
    "print(\"test Accuracy\",logit.score(X_test_tf,y_test))\n",
    "print(confusion_matrix(y_test,test_logit_preds))\n",
    "print(classification_report(y_test,test_logit_preds))"
   ]
  }
 ],
 "metadata": {
  "kernelspec": {
   "display_name": "Python 3",
   "language": "python",
   "name": "python3"
  },
  "language_info": {
   "codemirror_mode": {
    "name": "ipython",
    "version": 3
   },
   "file_extension": ".py",
   "mimetype": "text/x-python",
   "name": "python",
   "nbconvert_exporter": "python",
   "pygments_lexer": "ipython3",
   "version": "3.6.5"
  }
 },
 "nbformat": 4,
 "nbformat_minor": 2
}
